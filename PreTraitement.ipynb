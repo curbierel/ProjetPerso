{
 "cells": [
  {
   "cell_type": "code",
   "execution_count": 1,
   "id": "51f17e19-9503-4858-b88b-0b01a0f34d9a",
   "metadata": {},
   "outputs": [],
   "source": [
    "import os\n",
    "from pdf2image import convert_from_path"
   ]
  },
  {
   "cell_type": "markdown",
   "id": "5f3a55fd-30e1-4f2c-8fea-856fa26ad141",
   "metadata": {},
   "source": [
    "### On transforme les pdf en jpeg, et on met une page par document"
   ]
  },
  {
   "cell_type": "code",
   "execution_count": null,
   "id": "f983d3fe-9670-4fcc-9e1d-00437a623e67",
   "metadata": {},
   "outputs": [
    {
     "name": "stdout",
     "output_type": "stream",
     "text": [
      ".ipynb_checkpoints  n'est pas un pdf donc non  traité\n"
     ]
    }
   ],
   "source": [
    "# Répertoire contenant le/les pdf\n",
    "PDF_dir= r\"C:\\Users\\curbi\\Documents\\ProjetPerso\\generateur_bd\\TomePDF\"\n",
    "nbpdf=0\n",
    "for fichier in os.listdir(PDF_dir):\n",
    "    # On ne veut traiter que les pdf\n",
    "    if (fichier[-4:])==\".pdf\":\n",
    "        nbpdf+=1\n",
    "        convert_from_path(PDF_dir+\"\\\\\"+fichier,\n",
    "            dpi=300,                 #résolution\n",
    "            output_folder='Images',  #Dossier de sortie\n",
    "            output_file=nbpdf,       #Préfixe du fichier de sortie\n",
    "            fmt='jpeg'                #format\n",
    "        )\n",
    "    else :\n",
    "        print(fichier,\" n'est pas un pdf donc non  traité\")"
   ]
  }
 ],
 "metadata": {
  "kernelspec": {
   "display_name": "Python 3 (ipykernel)",
   "language": "python",
   "name": "python3"
  },
  "language_info": {
   "codemirror_mode": {
    "name": "ipython",
    "version": 3
   },
   "file_extension": ".py",
   "mimetype": "text/x-python",
   "name": "python",
   "nbconvert_exporter": "python",
   "pygments_lexer": "ipython3",
   "version": "3.7.11"
  }
 },
 "nbformat": 4,
 "nbformat_minor": 5
}
